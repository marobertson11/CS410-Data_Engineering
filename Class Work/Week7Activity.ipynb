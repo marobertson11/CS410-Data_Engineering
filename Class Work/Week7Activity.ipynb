import pandas as pd
import math
import re
import datetime
NaN = float("NaN")
census = pd.read_csv('./acs2017_census_tract_data.csv')
covid = pd.read_csv('./COVID_county_data.csv', parse_dates=['date'])
colNum=1
leng=0
#county_info = census[['State','County','TotalPop','Poverty', 'IncomePerCap']]
#aggregation_functions1 = {'State':'first', 'County':'first','TotalPop':'sum', 'Poverty':'mean', 'IncomePerCap':'mean' }
#df = county_info.groupby(['State','County']).aggregate(aggregation_functions1)

#check = df[(df['County'] == 'Malheur County') & (df['State']=='Oregon')]
#most = df[df['TotalPop'] == df['TotalPop'].max()]
#least = df[df['TotalPop'] == df['TotalPop'].min()]
#least

covid['Month'] = covid['date'].dt.strftime('%b') # make a month column 
covid['Year'] = covid['date'].dt.strftime('%Y') #make a year column
covid_monthly = covid[['state','county', 'Month', 'Year', 'cases', 'deaths']] #create a new table with just information listed
aggreagation_functions2 = {'state': 'first', 'county': 'first', 'Month': 'first', 'Year': 'first', 'cases': 'sum', 'deaths': 'sum'} # go through table and gather infomation based on sub calculation
coMo = covid_monthly.groupby(['state', 'county','Year', 'Month']).aggregate(aggreagation_functions2)#go through table, do calcualtion, then group by the state, then county, year, then month
#it was year first beacause if month first it will remove the secondary option
#print(coMo)
check1 = coMo[(coMo['state']=='Oregon') & (coMo['county'] == 'Malheur') & (coMo['Year'] == '2021') & (coMo['Month'] == 'Feb')]
check2 = coMo[(coMo['state']=='Oregon') & (coMo['county'] == 'Malheur') & (coMo['Year'] == '2020') & (coMo['Month'] == 'Aug')]
check3 = coMo[(coMo['state']=='Oregon') & (coMo['county'] == 'Malheur') & (coMo['Year'] == '2021') & (coMo['Month'] == 'Jan')]
print(check1)
print(check2)
print(check3)
